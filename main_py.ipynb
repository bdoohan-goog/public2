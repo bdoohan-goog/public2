{
 "cells": [
  {
   "cell_type": "code",
   "execution_count": 1,
   "id": "16eb96ec-37f0-4444-86af-041f04395e32",
   "metadata": {},
   "outputs": [
    {
     "name": "stdout",
     "output_type": "stream",
     "text": [
      "file\n"
     ]
    }
   ],
   "source": [
    "print(\"life\")"
   ]
  },
  {
   "cell_type": "code",
   "execution_count": null,
   "id": "8a5e735b-848b-41a6-81d5-a61f631a9b0b",
   "metadata": {},
   "outputs": [],
   "source": []
  }
 ],
 "metadata": {
  "kernelspec": {
   "display_name": "Python (Local)",
   "language": "python",
   "name": "local-base"
  },
  "language_info": {
   "codemirror_mode": {
    "name": "ipython",
    "version": 3
   },
   "file_extension": ".py",
   "mimetype": "text/x-python",
   "name": "python",
   "nbconvert_exporter": "python",
   "pygments_lexer": "ipython3",
   "version": "3.7.12"
  }
 },
 "nbformat": 4,
 "nbformat_minor": 5
}
